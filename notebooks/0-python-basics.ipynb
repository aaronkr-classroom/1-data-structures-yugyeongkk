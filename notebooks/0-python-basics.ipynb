{
 "cells": [
  {
   "cell_type": "markdown",
   "metadata": {},
   "source": [
    "# 0. Hello, Python! (Basic Data Types)\n",
    "\n",
    "This is a Python refresher notebook. It covers the basic data types in Python."
   ]
  },
  {
   "cell_type": "code",
   "execution_count": 17,
   "metadata": {},
   "outputs": [
    {
     "ename": "SyntaxError",
     "evalue": "unterminated string literal (detected at line 60) (2645405122.py, line 60)",
     "output_type": "error",
     "traceback": [
      "\u001b[0;36m  Cell \u001b[0;32mIn[17], line 60\u001b[0;36m\u001b[0m\n\u001b[0;31m    print(f\"Hello, I'm {self.name}\" and my ID is {self.id}.\")\u001b[0m\n\u001b[0m                                                           ^\u001b[0m\n\u001b[0;31mSyntaxError\u001b[0m\u001b[0;31m:\u001b[0m unterminated string literal (detected at line 60)\n"
     ]
    }
   ],
   "source": [
    "#--- Numeric Types ---\n",
    "# Integer\n",
    "num = 3\n",
    "print(f\"Integer:{num}\")\n",
    "\n",
    "\n",
    "# Float\n",
    "decimal = 10.333333\n",
    "print(f\"Float:{decimal}\")\n",
    "\n",
    "\n",
    "# Complex\n",
    "complex = 2 + 3j\n",
    "print(f\"Complex:{complex}\")\n",
    "\n",
    "\n",
    "# --- String and Character ---\n",
    "# String\n",
    "name = \"Yugyeong\"\n",
    "\n",
    "\n",
    "# Character (In Python, a single character is just a string of length 1)\n",
    "char = 'a'\n",
    "\n",
    "\n",
    "# --- Boolean ---\n",
    "# Boolean values\n",
    "t = True # 1\n",
    "f = False # 0\n",
    "\n",
    "\n",
    "\n",
    "# --- Arrays (Lists) ---\n",
    "# List\n",
    "array = [1,2,3,4,5,6,7,8,9,0]\n",
    "mixed_arr = ['a', 10, \"School\", False]\n",
    "\n",
    "\n",
    "# Accessing list elements\n",
    "print(f\"Mixed arr first item:{mixed_arr[0]}\")\n",
    "\n",
    "\n",
    "\n",
    "# Adding to a list\n",
    "mixed_arr.append([10,5,2,1])\n",
    "print(mixed_arr)\n",
    "\n",
    "\n",
    "mixed_arr\n",
    "\n",
    "\n",
    "\n",
    "# --- Objects (using classes) ---\n",
    "class Student:\n",
    "    def __init__(self, name, id):\n",
    "        self.name = name\n",
    "        self.id = id\n",
    "\n",
    "    def greet(self) : \n",
    "        print(f\"Hello, I'm {self.name}\" and my ID is {self.id}.\")\n",
    "     "
   ]
  },
  {
   "cell_type": "code",
   "execution_count": 18,
   "metadata": {},
   "outputs": [],
   "source": [
    "class Food:\n",
    "    def __init__(self, name):\n",
    "        self.name = name\n",
    "        \n",
    "    def __init__(self, name = 'apple', color = 'red', size = 0, price = 0):\n",
    "        self.name = name\n",
    "        self.color = color\n",
    "        self.size = size\n",
    "        self.price = price\n",
    "        self.quantity = 1\n",
    "    \n",
    "    def printInfo(self):\n",
    "        if self.name == '':\n",
    "            print(\"I am nothing.\")\n",
    "        else:\n",
    "            print(\"I am a\", self.name)\n",
    "            print(f\"I am a {self.name}.\")\n",
    "        "
   ]
  },
  {
   "cell_type": "code",
   "execution_count": 19,
   "metadata": {},
   "outputs": [],
   "source": [
    "f1 = Food()\n",
    "f2 = Food('banana')\n",
    "f3 = Food('orange')\n",
    "f4 = Food('grape', size = 3)\n",
    "f5 = Food('pear', 3)"
   ]
  },
  {
   "cell_type": "code",
   "execution_count": null,
   "metadata": {},
   "outputs": [],
   "source": [
    "f5.price"
   ]
  },
  {
   "cell_type": "markdown",
   "metadata": {},
   "source": [
    "# 1. Hello, World! (First Program)\n",
    "\n",
    "This is a simple introduction to Python syntax and the print() function."
   ]
  },
  {
   "cell_type": "markdown",
   "metadata": {},
   "source": [
    "# 2. Basic Math Operations\n",
    "\n",
    "Introduce variables and arithmetic operators."
   ]
  },
  {
   "cell_type": "markdown",
   "metadata": {},
   "source": [
    "# 3. Getting User Input\n",
    "\n",
    "Demonstrates how to interact with the user via input()."
   ]
  },
  {
   "cell_type": "code",
   "execution_count": 20,
   "metadata": {},
   "outputs": [
    {
     "name": "stdout",
     "output_type": "stream",
     "text": [
      "Helloan yugyeong!\n",
      "Next year, you will be19!\n"
     ]
    }
   ],
   "source": [
    "# Getting user input and using it\n",
    "name = input(\"What's your name? >>>\")\n",
    "print(\"Hello\" + name + \"!\")\n",
    "\n",
    "# Working with numbers\n",
    "age = input(\"How old you? >>> \") # String\n",
    "print(\"Next year, you will be\" +str(int(age) + 1) + \"!\")"
   ]
  },
  {
   "cell_type": "markdown",
   "metadata": {},
   "source": [
    "# 4. If Statements (Conditionals)\n",
    "\n",
    "Introduce the concept of decision-making using if, else, and elif."
   ]
  },
  {
   "cell_type": "code",
   "execution_count": 22,
   "metadata": {},
   "outputs": [
    {
     "name": "stdout",
     "output_type": "stream",
     "text": [
      "Your are positive!\n",
      "You are odd!\n"
     ]
    }
   ],
   "source": [
    "# Basic if-else example\n",
    "number = int(input(\"Enter a number: >>>\"))\n",
    "\n",
    "if number > 0:\n",
    "    print(\"Your are positive!\")\n",
    "\n",
    "    if number % 2 == 0:\n",
    "        print(\"You are even!\")\n",
    "    else:\n",
    "        print(\"You are odd!\")\n",
    "else:\n",
    "    print(\"Your are odd or negative\")"
   ]
  },
  {
   "cell_type": "markdown",
   "metadata": {},
   "source": [
    "# 5. For Loop (Iteration)\n",
    "\n",
    "A basic introduction to loops with a for loop that repeats a certain number of times."
   ]
  },
  {
   "cell_type": "code",
   "execution_count": 23,
   "metadata": {},
   "outputs": [
    {
     "name": "stdout",
     "output_type": "stream",
     "text": [
      "Loop iteration 1\n",
      "Loop iteration 2\n",
      "Loop iteration 3\n",
      "Loop iteration 4\n",
      "Loop iteration 5\n"
     ]
    }
   ],
   "source": [
    "# Basic for loop example\n",
    "for x in range(5):\n",
    "    print(\"Loop iteration\", x+1)"
   ]
  },
  {
   "cell_type": "code",
   "execution_count": 28,
   "metadata": {},
   "outputs": [
    {
     "name": "stdout",
     "output_type": "stream",
     "text": [
      "Loop iteration 5.0\n",
      "Loop iteration 6.0\n",
      "Loop iteration 7.0\n",
      "Loop iteration 8.0\n",
      "Loop iteration 9.0\n"
     ]
    }
   ],
   "source": [
    "for x in range(10,20,2):\n",
    "    print(\"Loop iteration\", x/2)"
   ]
  },
  {
   "cell_type": "markdown",
   "metadata": {},
   "source": [
    "# 6. While Loop (Iteration with Condition)\n",
    "\n",
    "Demonstrates a loop that runs until a condition is met."
   ]
  },
  {
   "cell_type": "code",
   "execution_count": 29,
   "metadata": {},
   "outputs": [
    {
     "name": "stdout",
     "output_type": "stream",
     "text": [
      "Count:  1\n",
      "Count:  2\n",
      "Count:  3\n",
      "Count:  4\n",
      "Count:  5\n",
      "Count:  6\n",
      "Count:  7\n",
      "Count:  8\n",
      "Count:  9\n",
      "Count:  10\n",
      "Count:  11\n",
      "Count:  12\n"
     ]
    }
   ],
   "source": [
    "# Basic while loop example\n",
    "#For loops need:\n",
    "# 1. start point\n",
    "# 2. end point (condition)\n",
    "# 3. step\n",
    "\n",
    "start = 1 # start point\n",
    "while start <= 12: # end point (conditon)\n",
    "    print(\"Count: \", start)\n",
    "    start += 1 #step"
   ]
  },
  {
   "cell_type": "markdown",
   "metadata": {},
   "source": [
    "# 7. Basic Function Example\n",
    "\n",
    "Introducing how to write and call functions."
   ]
  },
  {
   "cell_type": "code",
   "execution_count": null,
   "metadata": {},
   "outputs": [],
   "source": [
    "# Function to greet the user\n"
   ]
  },
  {
   "cell_type": "markdown",
   "metadata": {},
   "source": [
    "# 8. Simple Temperature Converter\n",
    "\n",
    "Combines input, conditionals, and functions in a real-world example."
   ]
  },
  {
   "cell_type": "code",
   "execution_count": null,
   "metadata": {},
   "outputs": [],
   "source": [
    "# Function to convert Celsius to Fahrenheit\n",
    "\n",
    "\n",
    "# Get temperature from user\n"
   ]
  },
  {
   "cell_type": "markdown",
   "metadata": {},
   "source": [
    "# 9. Simple Guessing Game\n",
    "\n",
    "A fun exercise that involves loops, conditionals, and randomness."
   ]
  },
  {
   "cell_type": "code",
   "execution_count": null,
   "metadata": {},
   "outputs": [],
   "source": [
    "\n",
    "# Generate a random number between 1 and 10\n",
    "\n",
    "\n",
    "# Keep asking the user until they guess correctly\n"
   ]
  },
  {
   "cell_type": "markdown",
   "metadata": {},
   "source": [
    "# 10. FizzBuzz (Classic Example)\n",
    "\n",
    "A popular coding challenge that helps beginners practice conditionals and loops.\n",
    "\n",
    "**Problem Statement:**\n",
    "\n",
    "Print numbers from 1 to n, where n is a positive integer. For each number:\n",
    "\n",
    "- Print \"Fizz\" if the number is divisible by 3.\n",
    "- Print \"Buzz\" if the number is divisible by 5.\n",
    "- Print \"FizzBuzz\" if the number is divisible by both 3 and 5.\n",
    "- Print the number itself if it is not divisible by either 3 or 5."
   ]
  },
  {
   "cell_type": "code",
   "execution_count": null,
   "metadata": {},
   "outputs": [],
   "source": [
    "# FizzBuzz example\n"
   ]
  },
  {
   "cell_type": "markdown",
   "metadata": {},
   "source": [
    "# Bonus: Recursive Fibonacci Function\n",
    "\n",
    "A more advanced example that demonstrates recursion."
   ]
  },
  {
   "cell_type": "code",
   "execution_count": null,
   "metadata": {},
   "outputs": [],
   "source": [
    "def fibonacci(n):\n",
    "    # Base cases\n",
    "\n",
    "        # Recursive case: F(n) = F(n-1) + F(n-2)\n",
    "        \n",
    "\n",
    "# Example usage\n"
   ]
  },
  {
   "cell_type": "code",
   "execution_count": null,
   "metadata": {},
   "outputs": [],
   "source": []
  }
 ],
 "metadata": {
  "kernelspec": {
   "display_name": "Python 3",
   "language": "python",
   "name": "python3"
  },
  "language_info": {
   "codemirror_mode": {
    "name": "ipython",
    "version": 3
   },
   "file_extension": ".py",
   "mimetype": "text/x-python",
   "name": "python",
   "nbconvert_exporter": "python",
   "pygments_lexer": "ipython3",
   "version": "3.12.1"
  }
 },
 "nbformat": 4,
 "nbformat_minor": 2
}
