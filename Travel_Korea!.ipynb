{
  "nbformat": 4,
  "nbformat_minor": 0,
  "metadata": {
    "colab": {
      "provenance": [],
      "include_colab_link": true
    },
    "kernelspec": {
      "name": "python3",
      "display_name": "Python 3"
    },
    "language_info": {
      "name": "python"
    }
  },
  "cells": [
    {
      "cell_type": "markdown",
      "metadata": {
        "id": "view-in-github",
        "colab_type": "text"
      },
      "source": [
        "<a href=\"https://colab.research.google.com/github/aaronkr-classroom/1-data-structures-yugyeongkk/blob/main/Travel_Korea!.ipynb\" target=\"_parent\"><img src=\"https://colab.research.google.com/assets/colab-badge.svg\" alt=\"Open In Colab\"/></a>"
      ]
    },
    {
      "cell_type": "code",
      "execution_count": null,
      "metadata": {
        "id": "qQ7kOZHHIJuV"
      },
      "outputs": [],
      "source": [
        "import heapq\n",
        "import networkx as nx\n",
        "import matplotlib.pyplot as plt\n",
        "\n",
        "landmarks = {\n",
        "    \"Jeonju\": {\n",
        "        \"Daejeon\": 62,\n",
        "        \"Gwangju\": 80,\n",
        "        \"Jinju\": 116\n",
        "    },\n",
        "    \"Jinju\": {\"Jeonju\": 116,\"Busan\": 86},\n",
        "    \"Gwangju\": {\"Jeonju\":80, \"Dajeon\":142},\n",
        "    \"Busan\": {\n",
        "        \"Jinju\": 86,\n",
        "        \"Ulsan\": 46\n",
        "        \"Jeju\": 299\n",
        "    },\n",
        "    \"Ulsan\": {\"Daejon\":197, \"Busan\": 46},\n",
        "    \"Jeju\": {\"Busan\": 299},\n",
        "    \"Daejeon\": {\n",
        "        \"Jeonju\": 62,\n",
        "        \"Ulsan\": 197,\n",
        "        \"Gwangju\": 142\n",
        "    }\n",
        "}"
      ]
    },
    {
      "cell_type": "code",
      "source": [
        "# BFS (shortest path)\n",
        "def bfs(graph, start, end):\n",
        "  visited = set()\n",
        "  queue = [(start, [start])]\n",
        "  while queue:\n",
        "    current, path = queue.pop(0)\n",
        "    if current == end:\n",
        "      return path\n",
        "    if current not in visited:\n",
        "      visited.add(current)\n",
        "      for neighbor in graph[current]:\n",
        "        queue.append((neighbor, path+[neighbor]))\n",
        "  return None\n",
        "\n"
      ],
      "metadata": {
        "id": "-SXHR5dqLBIu"
      },
      "execution_count": null,
      "outputs": []
    },
    {
      "cell_type": "code",
      "source": [
        "# Dijkstra's (Shortest travel time)\n",
        "def dijkstra(graph, start):\n",
        "  min_heap = [(0, start)]\n",
        "  times = {landmark: float('int=f')} for landmark in graph\n",
        "  times[start] = 0\n",
        "  while min_heap:\n",
        "    current_time, current_landmark = heapq,heaqpop(min_heap)\n",
        "    for neighbor, time in graph[current_landmark],items():\n",
        "      if new_time < times[neighbor]:\n",
        "        times[neighbor] = new_time\n",
        "        heap. heappush(min_heap, (new_time, neighbor))\n",
        "  return times"
      ],
      "metadata": {
        "id": "MWLMbrzxMQSq"
      },
      "execution_count": null,
      "outputs": []
    },
    {
      "cell_type": "code",
      "source": [
        "# Examples\n",
        "print(\"BFS form Jeonju to Jeju:\")\n",
        "print(bfs(landmarks, \"Jeonju\", \"Jeju\"))\n",
        "\n",
        "print(\"/nDijkstra's from Jeonju:\")\n",
        "print(dijkstra(landmarks, \"Jeonju\"))\n"
      ],
      "metadata": {
        "id": "-lV4aPk2NWOg",
        "outputId": "51fe33f2-4b8e-4b9d-befb-c84e185ff210",
        "colab": {
          "base_uri": "https://localhost:8080/",
          "height": 237
        }
      },
      "execution_count": 1,
      "outputs": [
        {
          "output_type": "stream",
          "name": "stdout",
          "text": [
            "BFS form Jeonju to Jeju:\n"
          ]
        },
        {
          "output_type": "error",
          "ename": "NameError",
          "evalue": "name 'bfs' is not defined",
          "traceback": [
            "\u001b[0;31m---------------------------------------------------------------------------\u001b[0m",
            "\u001b[0;31mNameError\u001b[0m                                 Traceback (most recent call last)",
            "\u001b[0;32m<ipython-input-1-ba3471f6d61a>\u001b[0m in \u001b[0;36m<cell line: 3>\u001b[0;34m()\u001b[0m\n\u001b[1;32m      1\u001b[0m \u001b[0;31m# Examples\u001b[0m\u001b[0;34m\u001b[0m\u001b[0;34m\u001b[0m\u001b[0m\n\u001b[1;32m      2\u001b[0m \u001b[0mprint\u001b[0m\u001b[0;34m(\u001b[0m\u001b[0;34m\"BFS form Jeonju to Jeju:\"\u001b[0m\u001b[0;34m)\u001b[0m\u001b[0;34m\u001b[0m\u001b[0;34m\u001b[0m\u001b[0m\n\u001b[0;32m----> 3\u001b[0;31m \u001b[0mprint\u001b[0m\u001b[0;34m(\u001b[0m\u001b[0mbfs\u001b[0m\u001b[0;34m(\u001b[0m\u001b[0mlandmarks\u001b[0m\u001b[0;34m,\u001b[0m \u001b[0;34m\"Jeonju\"\u001b[0m\u001b[0;34m,\u001b[0m \u001b[0;34m\"Jeju\"\u001b[0m\u001b[0;34m)\u001b[0m\u001b[0;34m)\u001b[0m\u001b[0;34m\u001b[0m\u001b[0;34m\u001b[0m\u001b[0m\n\u001b[0m\u001b[1;32m      4\u001b[0m \u001b[0;34m\u001b[0m\u001b[0m\n\u001b[1;32m      5\u001b[0m \u001b[0mprint\u001b[0m\u001b[0;34m(\u001b[0m\u001b[0;34m\"/nDijkstra's from Jeonju:\"\u001b[0m\u001b[0;34m)\u001b[0m\u001b[0;34m\u001b[0m\u001b[0;34m\u001b[0m\u001b[0m\n",
            "\u001b[0;31mNameError\u001b[0m: name 'bfs' is not defined"
          ]
        }
      ]
    },
    {
      "cell_type": "code",
      "source": [
        "#Visualize Graph\n",
        "def visualize_graph(graph):\n",
        "  G=nx.Grapth()\n",
        "  for landmark, connections in graph.item():\n",
        "    for neighbor, weight in connections.items():\n",
        "      G.add_edge(landmark, neighbor, weight=weight)\n",
        "  pos = nx.sprint_layout(G)\n",
        "  nx.draw(G, pos, with_labels=True, node_color='skyblue', node_size = 2)\n",
        "  edge_labels = nx.get_edge_attributes(G, 'weight')\n",
        "  nx.draw_networks_edge_labels(G, pos, edge_labels = edge_labels)\n",
        "  plt.title(\"Travel Itinerary Graph\")\n",
        "  plt.show()\n",
        "\n",
        "# Visualization\n",
        "visualize_graph(landmarks)"
      ],
      "metadata": {
        "id": "eCgkZezxPiHJ",
        "outputId": "c8fc3b12-5ce3-42e7-8429-710ab78f5071",
        "colab": {
          "base_uri": "https://localhost:8080/",
          "height": 182
        }
      },
      "execution_count": 2,
      "outputs": [
        {
          "output_type": "error",
          "ename": "NameError",
          "evalue": "name 'landmarks' is not defined",
          "traceback": [
            "\u001b[0;31m---------------------------------------------------------------------------\u001b[0m",
            "\u001b[0;31mNameError\u001b[0m                                 Traceback (most recent call last)",
            "\u001b[0;32m<ipython-input-2-06035be63dcd>\u001b[0m in \u001b[0;36m<cell line: 15>\u001b[0;34m()\u001b[0m\n\u001b[1;32m     13\u001b[0m \u001b[0;34m\u001b[0m\u001b[0m\n\u001b[1;32m     14\u001b[0m \u001b[0;31m# Visualization\u001b[0m\u001b[0;34m\u001b[0m\u001b[0;34m\u001b[0m\u001b[0m\n\u001b[0;32m---> 15\u001b[0;31m \u001b[0mvisualize_graph\u001b[0m\u001b[0;34m(\u001b[0m\u001b[0mlandmarks\u001b[0m\u001b[0;34m)\u001b[0m\u001b[0;34m\u001b[0m\u001b[0;34m\u001b[0m\u001b[0m\n\u001b[0m",
            "\u001b[0;31mNameError\u001b[0m: name 'landmarks' is not defined"
          ]
        }
      ]
    }
  ]
}